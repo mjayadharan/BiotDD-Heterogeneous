{
 "cells": [
  {
   "cell_type": "markdown",
   "metadata": {},
   "source": [
    "## Analysis of perm data from SPE website"
   ]
  },
  {
   "cell_type": "code",
   "execution_count": 1,
   "metadata": {},
   "outputs": [],
   "source": [
    "perm_data_array = []\n",
    "with open(\"spe_perm.dat\",'r') as perm_file:\n",
    "    for ind, line in enumerate(perm_file):\n",
    "        perm_data_array += list(map(float, line.strip().split()))"
   ]
  },
  {
   "cell_type": "code",
   "execution_count": 2,
   "metadata": {},
   "outputs": [],
   "source": [
    "#Extracting the bottom 60x220 data set\n",
    "num_bot_layer_dat = 60*220*3\n",
    "perm_bot_layer = perm_data_array[-num_bot_layer_dat:]"
   ]
  },
  {
   "cell_type": "code",
   "execution_count": 25,
   "metadata": {},
   "outputs": [],
   "source": [
    "perm_x_bottom_layer = [perm_bot_layer[i] for i in range(0,len(perm_bot_layer),3)]\n",
    "perm_y_bottom_layer = [perm_bot_layer[i] for i in range(1,len(perm_bot_layer),3)]\n",
    "perm_tester_layer = [perm_data_array[i] for i in range(60*220*84,60*220*85)]"
   ]
  },
  {
   "cell_type": "code",
   "execution_count": 4,
   "metadata": {},
   "outputs": [
    {
     "data": {
      "text/plain": [
       "13200"
      ]
     },
     "execution_count": 4,
     "metadata": {},
     "output_type": "execute_result"
    }
   ],
   "source": [
    "len(perm_x_bottom_layer)"
   ]
  },
  {
   "cell_type": "code",
   "execution_count": 5,
   "metadata": {},
   "outputs": [
    {
     "data": {
      "text/plain": [
       "1.441e-07"
      ]
     },
     "execution_count": 5,
     "metadata": {},
     "output_type": "execute_result"
    }
   ],
   "source": [
    "min(perm_x_bottom_layer)"
   ]
  },
  {
   "cell_type": "code",
   "execution_count": 6,
   "metadata": {},
   "outputs": [
    {
     "data": {
      "text/plain": [
       "6000.0"
      ]
     },
     "execution_count": 6,
     "metadata": {},
     "output_type": "execute_result"
    }
   ],
   "source": [
    "max(perm_x_bottom_layer)"
   ]
  },
  {
   "cell_type": "code",
   "execution_count": 7,
   "metadata": {},
   "outputs": [],
   "source": [
    "perm_top_layer = perm_data_array[:num_bot_layer_dat]\n",
    "perm_x_top_layer = [perm_top_layer[i] for i in range(0,len(perm_top_layer),3)]\n"
   ]
  },
  {
   "cell_type": "code",
   "execution_count": 16,
   "metadata": {},
   "outputs": [
    {
     "data": {
      "text/plain": [
       "[18.2808, 30.6373, 6.44345, 2.53339, 9.60578]"
      ]
     },
     "execution_count": 16,
     "metadata": {},
     "output_type": "execute_result"
    }
   ],
   "source": [
    "perm_x_top_layer[:5]"
   ]
  },
  {
   "cell_type": "code",
   "execution_count": 18,
   "metadata": {},
   "outputs": [
    {
     "data": {
      "text/plain": [
       "[30.0745, 38.802, 9.26743, 4.71611, 12.0147]"
      ]
     },
     "execution_count": 18,
     "metadata": {},
     "output_type": "execute_result"
    }
   ],
   "source": [
    "perm_x_top_layer[20:25]"
   ]
  },
  {
   "cell_type": "code",
   "execution_count": 8,
   "metadata": {},
   "outputs": [
    {
     "data": {
      "text/plain": [
       "20000.0"
      ]
     },
     "execution_count": 8,
     "metadata": {},
     "output_type": "execute_result"
    }
   ],
   "source": [
    "len(perm_x_top_layer)\n",
    "max(perm_x_top_layer)"
   ]
  },
  {
   "cell_type": "code",
   "execution_count": 9,
   "metadata": {},
   "outputs": [
    {
     "data": {
      "text/plain": [
       "0.000713"
      ]
     },
     "execution_count": 9,
     "metadata": {},
     "output_type": "execute_result"
    }
   ],
   "source": [
    "min(perm_x_top_layer)"
   ]
  },
  {
   "cell_type": "markdown",
   "metadata": {},
   "source": [
    "### Printing data to a new file with one column"
   ]
  },
  {
   "cell_type": "code",
   "execution_count": 20,
   "metadata": {},
   "outputs": [],
   "source": [
    "with open(\"permx_bottom.dat\",'w') as bottom_layer_file:\n",
    "    bottom_layer_file.write(str(len(perm_x_bottom_layer))+\"\\n\")\n",
    "    for el in perm_x_bottom_layer:\n",
    "        bottom_layer_file.write(str(el)+\"\\n\")\n",
    "        bottom_layer_file.write(str(el)+\"\\n\")"
   ]
  },
  {
   "cell_type": "code",
   "execution_count": 24,
   "metadata": {},
   "outputs": [],
   "source": [
    "with open(\"permx_y_bottom.dat\",'w') as bottom_layer_file:\n",
    "    bottom_layer_file.write(str(len(perm_y_bottom_layer))+\"\\n\")\n",
    "    for el in perm_y_bottom_layer:\n",
    "        bottom_layer_file.write(str(el)+\"\\n\")\n",
    "        bottom_layer_file.write(str(el)+\"\\n\")"
   ]
  },
  {
   "cell_type": "code",
   "execution_count": 22,
   "metadata": {},
   "outputs": [],
   "source": [
    "with open(\"permx_top.dat\",'w') as top_layer_file:\n",
    "    top_layer_file.write(str(len(perm_x_top_layer))+\"\\n\")\n",
    "    for el in perm_x_top_layer:\n",
    "        top_layer_file.write(str(el)+\"\\n\")\n",
    "        top_layer_file.write(str(el)+\"\\n\")"
   ]
  },
  {
   "cell_type": "code",
   "execution_count": 30,
   "metadata": {},
   "outputs": [],
   "source": [
    "## This is the real bottom layer permeability\n",
    "\n",
    "with open(\"permx_test.dat\",'w') as top_layer_file:\n",
    "    top_layer_file.write(str(len(perm_tester_layer))+\"\\n\")\n",
    "    for el in perm_tester_layer:\n",
    "        top_layer_file.write(str(el)+\"\\n\")\n",
    "        top_layer_file.write(str(el)+\"\\n\")"
   ]
  },
  {
   "cell_type": "markdown",
   "metadata": {},
   "source": [
    "## Extracting data from porosity file"
   ]
  },
  {
   "cell_type": "code",
   "execution_count": 28,
   "metadata": {},
   "outputs": [],
   "source": [
    "poros_data_array =[]\n",
    "with open(\"spe_phi.dat\",'r') as poros_file:\n",
    "    for ind, line in enumerate(poros_file):\n",
    "        poros_data_array += list(map(float, line.strip().split()))\n",
    "    \n",
    "    "
   ]
  },
  {
   "cell_type": "code",
   "execution_count": 29,
   "metadata": {},
   "outputs": [],
   "source": [
    "poros_bottom_layer = [poros_data_array[i] for i in range(60*220*84,60*220*85)]"
   ]
  },
  {
   "cell_type": "code",
   "execution_count": 31,
   "metadata": {},
   "outputs": [],
   "source": [
    "## This is the real bottom layer porosity\n",
    "\n",
    "with open(\"poros_bottom.txt\",'w') as bottom_layer_file:\n",
    "    bottom_layer_file.write(str(len(poros_bottom_layer))+\"\\n\")\n",
    "    for el in poros_bottom_layer:\n",
    "        bottom_layer_file.write(str(el)+\"\\n\")\n",
    "        bottom_layer_file.write(str(el)+\"\\n\")"
   ]
  },
  {
   "cell_type": "markdown",
   "metadata": {},
   "source": [
    "## Conclusion for spe_perm.dat file analysis\n",
    "- For spe_perm.dat file, we defined the top layer to be the K_x from frist 60x220 data points and bottom layer to be K_x from last 60x220 points.\n",
    "- For top layer: __kmax = 20000.0__ and __kmin =  0.000713__.\n",
    "- For bottom layer: __kmax = 6000.0__ and __kmin =  1.441e-07__.\n"
   ]
  },
  {
   "cell_type": "markdown",
   "metadata": {},
   "source": [
    "## Analysis of the permx.dat sent"
   ]
  },
  {
   "cell_type": "code",
   "execution_count": 10,
   "metadata": {},
   "outputs": [],
   "source": [
    "permx_data_array = []\n",
    "with open(\"permx.dat\",'r') as permx_file:\n",
    "    for ind, line in enumerate(permx_file):\n",
    "        if ind==0:\n",
    "            continue\n",
    "        permx_data_array += list(map(float, line.strip().split()))"
   ]
  },
  {
   "cell_type": "code",
   "execution_count": 11,
   "metadata": {},
   "outputs": [
    {
     "data": {
      "text/plain": [
       "9999.999023"
      ]
     },
     "execution_count": 11,
     "metadata": {},
     "output_type": "execute_result"
    }
   ],
   "source": [
    "max(permx_data_array)"
   ]
  },
  {
   "cell_type": "code",
   "execution_count": 12,
   "metadata": {},
   "outputs": [
    {
     "data": {
      "text/plain": [
       "1.0"
      ]
     },
     "execution_count": 12,
     "metadata": {},
     "output_type": "execute_result"
    }
   ],
   "source": [
    "min(permx_data_array)"
   ]
  },
  {
   "cell_type": "markdown",
   "metadata": {},
   "source": [
    "### Printing data to a new file with one column"
   ]
  },
  {
   "cell_type": "code",
   "execution_count": 21,
   "metadata": {},
   "outputs": [],
   "source": [
    "with open(\"permx_sent.dat\",'w') as permx_sent_file:\n",
    "    permx_sent_file.write(str(len(permx_data_array))+\"\\n\")\n",
    "    for el in permx_data_array:\n",
    "        permx_sent_file.write(str(el)+\"\\n\")\n",
    "        permx_sent_file.write(str(el)+\"\\n\")"
   ]
  },
  {
   "cell_type": "code",
   "execution_count": 13,
   "metadata": {},
   "outputs": [
    {
     "data": {
      "text/plain": [
       "[1.031131864,\n",
       " 1.01590395,\n",
       " 1.015794873,\n",
       " 7.290384769,\n",
       " 13.7503891,\n",
       " 25.7747364,\n",
       " 56.01986313,\n",
       " 2.581590891,\n",
       " 933.265625,\n",
       " 278.4176331]"
      ]
     },
     "execution_count": 13,
     "metadata": {},
     "output_type": "execute_result"
    }
   ],
   "source": [
    "permx_data_array[:10]"
   ]
  },
  {
   "cell_type": "markdown",
   "metadata": {},
   "source": [
    "## Conclusion for permx.dat file analysis\n",
    "- We are given only a single layer of 60x220 data set.\n",
    "- __kmax = 9999.999023__ and __kmin =  1.0__.\n"
   ]
  },
  {
   "cell_type": "code",
   "execution_count": null,
   "metadata": {},
   "outputs": [],
   "source": []
  }
 ],
 "metadata": {
  "kernelspec": {
   "display_name": "Python 3",
   "language": "python",
   "name": "python3"
  },
  "language_info": {
   "codemirror_mode": {
    "name": "ipython",
    "version": 3
   },
   "file_extension": ".py",
   "mimetype": "text/x-python",
   "name": "python",
   "nbconvert_exporter": "python",
   "pygments_lexer": "ipython3",
   "version": "3.8.3"
  }
 },
 "nbformat": 4,
 "nbformat_minor": 4
}
